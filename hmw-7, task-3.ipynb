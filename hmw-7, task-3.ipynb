{
 "cells": [
  {
   "cell_type": "code",
   "execution_count": 1,
   "metadata": {
    "collapsed": true
   },
   "outputs": [],
   "source": [
    "from selenium import webdriver\n",
    "from selenium.webdriver.support.ui import Select\n",
    "from time import*\n",
    "browser = webdriver.Chrome()\n",
    "url = \"https://www.cba.am/EN/SitePages/Default.aspx\"\n",
    "browser.get(url)"
   ]
  },
  {
   "cell_type": "code",
   "execution_count": 2,
   "metadata": {},
   "outputs": [
    {
     "name": "stdout",
     "output_type": "stream",
     "text": [
      "478.85\n"
     ]
    }
   ],
   "source": [
    "data=browser.find_element_by_xpath('//*[@id=\"ctl00_PlaceHolderMain_g_863d4f31_7343_4804_bedb_aa7f55c1305a_updatePanelctl00_PlaceHolderMain_g_863d4f31_7343_4804_bedb_aa7f55c1305a\"]/li[1]/em[3]')\n",
    "print(data.text)"
   ]
  },
  {
   "cell_type": "code",
   "execution_count": null,
   "metadata": {
    "collapsed": true
   },
   "outputs": [],
   "source": []
  }
 ],
 "metadata": {
  "kernelspec": {
   "display_name": "Python 2",
   "language": "python",
   "name": "python2"
  },
  "language_info": {
   "codemirror_mode": {
    "name": "ipython",
    "version": 2
   },
   "file_extension": ".py",
   "mimetype": "text/x-python",
   "name": "python",
   "nbconvert_exporter": "python",
   "pygments_lexer": "ipython2",
   "version": "2.7.13"
  }
 },
 "nbformat": 4,
 "nbformat_minor": 2
}
